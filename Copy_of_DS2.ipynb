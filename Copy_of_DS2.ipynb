{
  "nbformat": 4,
  "nbformat_minor": 0,
  "metadata": {
    "colab": {
      "provenance": [],
      "authorship_tag": "ABX9TyOiDq7s7C7NX5odQEAmDc+8",
      "include_colab_link": true
    },
    "kernelspec": {
      "name": "python3",
      "display_name": "Python 3"
    },
    "language_info": {
      "name": "python"
    }
  },
  "cells": [
    {
      "cell_type": "markdown",
      "metadata": {
        "id": "view-in-github",
        "colab_type": "text"
      },
      "source": [
        "<a href=\"https://colab.research.google.com/github/rubitarubi/A-PORTFOLIO-WEBSITE/blob/main/Copy_of_DS2.ipynb\" target=\"_parent\"><img src=\"https://colab.research.google.com/assets/colab-badge.svg\" alt=\"Open In Colab\"/></a>"
      ]
    },
    {
      "cell_type": "code",
      "execution_count": null,
      "metadata": {
        "id": "NB2-75Luxwbl"
      },
      "outputs": [],
      "source": [
        "#sequences are containers ,where certain items are strored.\n",
        "#A variable can contain only one element at  a time ,but sequences can contain multiple elements at  a time\n",
        "#Types:\n",
        "#Strings\n",
        "#Lists\n",
        "#Tuples\n",
        "#Sets\n",
        "#Dictionaries"
      ]
    },
    {
      "cell_type": "code",
      "source": [
        "#LIST - [] - Mutable(I can change it)"
      ],
      "metadata": {
        "id": "cXG_dmiK0RgR"
      },
      "execution_count": null,
      "outputs": []
    },
    {
      "cell_type": "code",
      "source": [
        "a = [1,2,3,4,5]\n",
        "a"
      ],
      "metadata": {
        "colab": {
          "base_uri": "https://localhost:8080/"
        },
        "id": "r-YQmwds0Xxy",
        "outputId": "ddbc3004-7195-4c6d-8488-9aa407021cb5"
      },
      "execution_count": null,
      "outputs": [
        {
          "output_type": "execute_result",
          "data": {
            "text/plain": [
              "[1, 2, 3, 4, 5]"
            ]
          },
          "metadata": {},
          "execution_count": 3
        }
      ]
    },
    {
      "cell_type": "code",
      "source": [
        "fruits = ['Mangoes','Apples','Oranges','Watermelons']\n",
        "fruits"
      ],
      "metadata": {
        "id": "rWugpwiA0ivS",
        "colab": {
          "base_uri": "https://localhost:8080/"
        },
        "outputId": "8edde2e8-3981-4fad-aebd-fbe7ad99eb99"
      },
      "execution_count": null,
      "outputs": [
        {
          "output_type": "execute_result",
          "data": {
            "text/plain": [
              "['Mangoes', 'Apples', 'Oranges', 'Watermelons']"
            ]
          },
          "metadata": {},
          "execution_count": 4
        }
      ]
    },
    {
      "cell_type": "code",
      "source": [
        "type(fruits)"
      ],
      "metadata": {
        "colab": {
          "base_uri": "https://localhost:8080/"
        },
        "id": "eiOFeveq1WDn",
        "outputId": "f81727c1-422e-4e93-d2ed-e408db9ef5d7"
      },
      "execution_count": null,
      "outputs": [
        {
          "output_type": "execute_result",
          "data": {
            "text/plain": [
              "list"
            ]
          },
          "metadata": {},
          "execution_count": 5
        }
      ]
    },
    {
      "cell_type": "code",
      "source": [
        "b = [125,'Python',True,36.5]\n",
        "b"
      ],
      "metadata": {
        "colab": {
          "base_uri": "https://localhost:8080/"
        },
        "id": "9G_Hv-P21eQM",
        "outputId": "e18d007f-1f04-4fc7-cb84-fd3b426baffe"
      },
      "execution_count": null,
      "outputs": [
        {
          "output_type": "execute_result",
          "data": {
            "text/plain": [
              "[125, 'Python', True, 36.5]"
            ]
          },
          "metadata": {},
          "execution_count": 6
        }
      ]
    },
    {
      "cell_type": "code",
      "source": [
        "#TUPLES - () - Are inmutable,Much more faster and efficient than LISTS\n",
        "a = (1,2,3,4,5)\n",
        "a"
      ],
      "metadata": {
        "colab": {
          "base_uri": "https://localhost:8080/"
        },
        "id": "WZrR7Zx013kt",
        "outputId": "ec9a0f9f-f201-4811-d7cc-d5127fc43169"
      },
      "execution_count": null,
      "outputs": [
        {
          "output_type": "execute_result",
          "data": {
            "text/plain": [
              "(1, 2, 3, 4, 5)"
            ]
          },
          "metadata": {},
          "execution_count": 7
        }
      ]
    },
    {
      "cell_type": "code",
      "source": [
        "type(a)"
      ],
      "metadata": {
        "colab": {
          "base_uri": "https://localhost:8080/"
        },
        "id": "h5zmlenK2NBF",
        "outputId": "c7c61acc-71b8-4107-eefb-ae4e94aa3ce1"
      },
      "execution_count": null,
      "outputs": [
        {
          "output_type": "execute_result",
          "data": {
            "text/plain": [
              "tuple"
            ]
          },
          "metadata": {},
          "execution_count": 8
        }
      ]
    },
    {
      "cell_type": "code",
      "source": [
        "c = (125,True,'Hello','34.9')\n",
        "c"
      ],
      "metadata": {
        "colab": {
          "base_uri": "https://localhost:8080/"
        },
        "id": "ZLwWcz1T2Rzm",
        "outputId": "a77d39ad-3995-4506-c488-26d88ae336f9"
      },
      "execution_count": null,
      "outputs": [
        {
          "output_type": "execute_result",
          "data": {
            "text/plain": [
              "(125, True, 'Hello', '34.9')"
            ]
          },
          "metadata": {},
          "execution_count": 9
        }
      ]
    },
    {
      "cell_type": "code",
      "source": [
        "#SET - {} - UNION,INTERSECTION\n",
        "a = {1,2,3,4,5,6}\n",
        "b = {7,8,9,10,1,2}"
      ],
      "metadata": {
        "id": "2I0GkyJ43gwA"
      },
      "execution_count": null,
      "outputs": []
    },
    {
      "cell_type": "code",
      "source": [
        "#UNION of 2 sets\n",
        "a|b"
      ],
      "metadata": {
        "colab": {
          "base_uri": "https://localhost:8080/"
        },
        "id": "0WkX_l1R4DhP",
        "outputId": "070623be-6217-440a-8b7e-46fc421be0dd"
      },
      "execution_count": null,
      "outputs": [
        {
          "output_type": "execute_result",
          "data": {
            "text/plain": [
              "{1, 2, 3, 4, 5, 6, 7, 8, 9, 10}"
            ]
          },
          "metadata": {},
          "execution_count": 11
        }
      ]
    },
    {
      "cell_type": "code",
      "source": [
        "#Intersection of 2 sets\n",
        "a&b # The common elements of both the sets are printed here in intersection"
      ],
      "metadata": {
        "colab": {
          "base_uri": "https://localhost:8080/"
        },
        "id": "N8G1blR_4Rv-",
        "outputId": "691b7591-050c-45eb-b8b6-36c9161c7b23"
      },
      "execution_count": null,
      "outputs": [
        {
          "output_type": "execute_result",
          "data": {
            "text/plain": [
              "{1, 2}"
            ]
          },
          "metadata": {},
          "execution_count": 12
        }
      ]
    },
    {
      "cell_type": "code",
      "source": [
        "#DICTIONARY -{key:value1,key2:value2}\n",
        "data = {1:'Python', 2:'Online',3:'training'}\n",
        "data"
      ],
      "metadata": {
        "colab": {
          "base_uri": "https://localhost:8080/"
        },
        "id": "QGIxx5wI4gHR",
        "outputId": "d3cb593b-44a8-4b41-d1b3-d22ffd736aea"
      },
      "execution_count": null,
      "outputs": [
        {
          "output_type": "execute_result",
          "data": {
            "text/plain": [
              "{1: 'Python', 2: 'Online', 3: 'training'}"
            ]
          },
          "metadata": {},
          "execution_count": 13
        }
      ]
    },
    {
      "cell_type": "code",
      "source": [
        "type(data)"
      ],
      "metadata": {
        "colab": {
          "base_uri": "https://localhost:8080/"
        },
        "id": "RBgKmtEs7SQk",
        "outputId": "b1b96ed0-99d9-407b-9fb1-38c66e2bb31d"
      },
      "execution_count": null,
      "outputs": [
        {
          "output_type": "execute_result",
          "data": {
            "text/plain": [
              "dict"
            ]
          },
          "metadata": {},
          "execution_count": 14
        }
      ]
    },
    {
      "cell_type": "code",
      "source": [
        "cars = {'Brand':['BMW','Volvo','Ford'],'passings':[3,7,2]}\n",
        "cars"
      ],
      "metadata": {
        "colab": {
          "base_uri": "https://localhost:8080/"
        },
        "id": "7mgkTXI67ZdX",
        "outputId": "6a61d6d7-fb6d-453e-da2b-1e7ab1439998"
      },
      "execution_count": null,
      "outputs": [
        {
          "output_type": "execute_result",
          "data": {
            "text/plain": [
              "{'Brand': ['BMW', 'Volvo', 'Ford'], 'passings': [3, 7, 2]}"
            ]
          },
          "metadata": {},
          "execution_count": 15
        }
      ]
    },
    {
      "cell_type": "code",
      "source": [
        "type(cars)"
      ],
      "metadata": {
        "colab": {
          "base_uri": "https://localhost:8080/"
        },
        "id": "XgpOSNnI8J6F",
        "outputId": "d8007107-1704-4a33-e920-c593ea79a5fe"
      },
      "execution_count": null,
      "outputs": [
        {
          "output_type": "execute_result",
          "data": {
            "text/plain": [
              "dict"
            ]
          },
          "metadata": {},
          "execution_count": 16
        }
      ]
    },
    {
      "cell_type": "code",
      "source": [
        "#PYTHON LIBRARIES - NUMPY,MATPLOTLIB,PANDAS,SCIKIT LEARN,SEABORN,OPENCV,etc"
      ],
      "metadata": {
        "id": "QBFvrp6A8Pfy"
      },
      "execution_count": null,
      "outputs": []
    },
    {
      "cell_type": "code",
      "source": [
        "#NUMPY - Numerical Python\n",
        "#Numpy is generally used instead of a LIST.\n",
        "#Numpy is much mote faster and efficient , when compared to a list.\n",
        "#Numpay is always an array"
      ],
      "metadata": {
        "id": "hGZDjsBi9gQM"
      },
      "execution_count": null,
      "outputs": []
    },
    {
      "cell_type": "code",
      "source": [
        "import numpy as np\n",
        "a = np.array(1)\n",
        "a"
      ],
      "metadata": {
        "colab": {
          "base_uri": "https://localhost:8080/"
        },
        "id": "-A2v3mzpZx2l",
        "outputId": "f5bc504a-ab3c-4d4e-9de2-0551c2376b07"
      },
      "execution_count": null,
      "outputs": [
        {
          "output_type": "execute_result",
          "data": {
            "text/plain": [
              "array(1)"
            ]
          },
          "metadata": {},
          "execution_count": 19
        }
      ]
    },
    {
      "cell_type": "code",
      "source": [
        "type(a) #nd - n dimensional array"
      ],
      "metadata": {
        "colab": {
          "base_uri": "https://localhost:8080/"
        },
        "id": "G-3ify8IaA8r",
        "outputId": "a461494b-c817-43b2-cbea-ed425e8e0221"
      },
      "execution_count": null,
      "outputs": [
        {
          "output_type": "execute_result",
          "data": {
            "text/plain": [
              "numpy.ndarray"
            ]
          },
          "metadata": {},
          "execution_count": 20
        }
      ]
    },
    {
      "cell_type": "code",
      "source": [
        "a.ndim#.ndim lets us check the dimension"
      ],
      "metadata": {
        "colab": {
          "base_uri": "https://localhost:8080/"
        },
        "id": "-FrhwxrHaZtO",
        "outputId": "ba8eec25-e400-4635-c7b7-380e60840220"
      },
      "execution_count": null,
      "outputs": [
        {
          "output_type": "execute_result",
          "data": {
            "text/plain": [
              "0"
            ]
          },
          "metadata": {},
          "execution_count": 21
        }
      ]
    },
    {
      "cell_type": "code",
      "source": [
        "a.size#.size tells us the total number of elements in the array a"
      ],
      "metadata": {
        "colab": {
          "base_uri": "https://localhost:8080/"
        },
        "id": "uUSpcjEVaunE",
        "outputId": "2c2735d0-3325-4f85-8a7d-79509b32f90d"
      },
      "execution_count": null,
      "outputs": [
        {
          "output_type": "execute_result",
          "data": {
            "text/plain": [
              "1"
            ]
          },
          "metadata": {},
          "execution_count": 22
        }
      ]
    },
    {
      "cell_type": "code",
      "source": [
        "b = np.array([1,2,3,4,5])\n",
        "b"
      ],
      "metadata": {
        "colab": {
          "base_uri": "https://localhost:8080/"
        },
        "id": "CJH5YEVlbHKm",
        "outputId": "853072ae-7241-45a7-d921-1ac2b37f3ea4"
      },
      "execution_count": null,
      "outputs": [
        {
          "output_type": "execute_result",
          "data": {
            "text/plain": [
              "array([1, 2, 3, 4, 5])"
            ]
          },
          "metadata": {},
          "execution_count": 23
        }
      ]
    },
    {
      "cell_type": "code",
      "source": [
        "b.ndim #array b is 1 dimensional array"
      ],
      "metadata": {
        "colab": {
          "base_uri": "https://localhost:8080/"
        },
        "id": "9vrv2Uo9b1em",
        "outputId": "941b6066-d1ed-4aaf-df2f-dac0828a19ca"
      },
      "execution_count": null,
      "outputs": [
        {
          "output_type": "execute_result",
          "data": {
            "text/plain": [
              "1"
            ]
          },
          "metadata": {},
          "execution_count": 24
        }
      ]
    },
    {
      "cell_type": "code",
      "source": [
        "b.size #array b has got S elements"
      ],
      "metadata": {
        "colab": {
          "base_uri": "https://localhost:8080/"
        },
        "id": "049nzOhacT1c",
        "outputId": "8160b17a-a5ff-4c59-ee73-dbc1ff556f28"
      },
      "execution_count": null,
      "outputs": [
        {
          "output_type": "execute_result",
          "data": {
            "text/plain": [
              "5"
            ]
          },
          "metadata": {},
          "execution_count": 25
        }
      ]
    },
    {
      "cell_type": "code",
      "source": [
        "c = np.array([[1,2,3],[4,5,6]])\n",
        "c"
      ],
      "metadata": {
        "colab": {
          "base_uri": "https://localhost:8080/"
        },
        "id": "ncvBwXRYczXE",
        "outputId": "c7b0d978-9cbd-4406-e44a-90f663bca504"
      },
      "execution_count": null,
      "outputs": [
        {
          "output_type": "execute_result",
          "data": {
            "text/plain": [
              "array([[1, 2, 3],\n",
              "       [4, 5, 6]])"
            ]
          },
          "metadata": {},
          "execution_count": 26
        }
      ]
    },
    {
      "cell_type": "code",
      "source": [
        "c.size # Array c has got 6 elements"
      ],
      "metadata": {
        "colab": {
          "base_uri": "https://localhost:8080/"
        },
        "id": "AAfklGd3dQAn",
        "outputId": "8525f8bf-afdf-41df-a24c-c493fd1e8063"
      },
      "execution_count": null,
      "outputs": [
        {
          "output_type": "execute_result",
          "data": {
            "text/plain": [
              "6"
            ]
          },
          "metadata": {},
          "execution_count": 27
        }
      ]
    },
    {
      "cell_type": "code",
      "source": [
        "#np - Numpy,random - package(Collection of libraries),Randint - Library\n",
        "#Using numpy  , I want to access the random package and then access the randint library\n",
        "#Using the randint lib , in the range of 0 to 50 , generate 30 random integers\n",
        "d = np.random.randint(0,50,30)\n",
        "d"
      ],
      "metadata": {
        "colab": {
          "base_uri": "https://localhost:8080/"
        },
        "id": "76O5u0IWeJNJ",
        "outputId": "b1aabae6-8ab5-4774-a7d5-fd822b64ee2d"
      },
      "execution_count": null,
      "outputs": [
        {
          "output_type": "execute_result",
          "data": {
            "text/plain": [
              "array([ 6,  7, 16, 29, 46, 38,  3,  5, 31,  7, 21, 44, 20, 41,  2, 45, 27,\n",
              "       28, 42,  3, 48, 34, 33, 26, 23, 13, 34, 26, 37, 43])"
            ]
          },
          "metadata": {},
          "execution_count": 28
        }
      ]
    },
    {
      "cell_type": "code",
      "source": [
        "#MATPLOTLIB - VISUALISATION LIBRARY(GRAPHS and REPRESENTATIONS)\n",
        "#1.Line Graph/PLot using LISTS\n",
        "\n",
        "import matplotlib.pyplot as plt\n",
        "a = [1,2,3,4,5]\n",
        "b = [6,7,8,9,10]\n",
        "#plt.plot(x-axis,y-axis)\n",
        "plt.plot(a,b,color = 'orange',marker = '*')\n",
        "plt.title('LINE GRAPH')\n",
        "plt.xlabel('X-Axis')\n",
        "plt.ylabel('Y-Axis')"
      ],
      "metadata": {
        "id": "EFZL7Bmpg_To"
      },
      "execution_count": null,
      "outputs": []
    },
    {
      "cell_type": "code",
      "source": [
        "#2.LINE GRAPH/PLOT using NUMPY\n",
        "a = np.array([1,2,3,4,5])\n",
        "b = np.array([6,7,8,9,10])\n",
        "plt.plot(a,b,color = 'red',marker = 'v')\n",
        "plt.title('LINE GRAPh')\n",
        "plt.xlabel('X-Axis')\n",
        "plt.ylabel('Y-axis')"
      ],
      "metadata": {
        "colab": {
          "base_uri": "https://localhost:8080/",
          "height": 489
        },
        "id": "fF5_bLs3ixGu",
        "outputId": "de88586b-db9b-45ec-e409-3a21007b9f20"
      },
      "execution_count": null,
      "outputs": [
        {
          "output_type": "execute_result",
          "data": {
            "text/plain": [
              "Text(0, 0.5, 'Y-axis')"
            ]
          },
          "metadata": {},
          "execution_count": 30
        },
        {
          "output_type": "display_data",
          "data": {
            "text/plain": [
              "<Figure size 640x480 with 1 Axes>"
            ],
            "image/png": "[encoded data removed]"
          },
          "metadata": {}
        }
      ]
    },
    {
      "cell_type": "code",
      "source": [
        "#3 SCATTER PLOT\n",
        "a = [1,2,3,4,5]\n",
        "b = np.array([6,7,8,9,10])\n",
        "plt.scatter(a,b,color = ['orange','deepskyblue','gold','lime','red'])\n",
        "plt.title('SCATTER PLOT')\n",
        "plt.xlabel('X-Axis')\n",
        "plt.ylabel('Y-Axis')"
      ],
      "metadata": {
        "colab": {
          "base_uri": "https://localhost:8080/",
          "height": 489
        },
        "id": "Ho-VhmiIqEBg",
        "outputId": "767c4697-43d9-4f69-add5-8587e1a7c09e"
      },
      "execution_count": null,
      "outputs": [
        {
          "output_type": "execute_result",
          "data": {
            "text/plain": [
              "Text(0, 0.5, 'Y-Axis')"
            ]
          },
          "metadata": {},
          "execution_count": 31
        },
        {
          "output_type": "display_data",
          "data": {
            "text/plain": [
              "<Figure size 640x480 with 1 Axes>"
            ],
            "image/png": "[encoded data removed]"
          },
          "metadata": {}
        }
      ]
    },
    {
      "cell_type": "code",
      "source": [
        "import matplotlib.pyplot as plt\n",
        "a = [1,2,3,4,5]\n",
        "b = [6,7,8,9,10]\n",
        "plt.plot(a,b)\n",
        "plt.title('Line Graph')"
      ],
      "metadata": {
        "colab": {
          "base_uri": "https://localhost:8080/",
          "height": 469
        },
        "id": "usjsTk5QtklB",
        "outputId": "3292375d-fb86-40b0-eeb1-303227ac83f3"
      },
      "execution_count": null,
      "outputs": [
        {
          "output_type": "execute_result",
          "data": {
            "text/plain": [
              "Text(0.5, 1.0, 'Line Graph')"
            ]
          },
          "metadata": {},
          "execution_count": 32
        },
        {
          "output_type": "display_data",
          "data": {
            "text/plain": [
              "<Figure size 640x480 with 1 Axes>"
            ],
            "image/png": "[encoded data removed]"
          },
          "metadata": {}
        }
      ]
    },
    {
      "cell_type": "code",
      "source": [
        "#4.BAR GRAPH/PLOT\n",
        "names = ['Ashik','Sam','Chris','Gopal','Rahul']\n",
        "weight=[78,86,67,77,81]\n",
        "#ptl.bar(x-axis,y-axis)\n",
        "plt.barh(names,weight,color = ['Orange','Deepskyblue','Gold','Lime','red'])\n",
        "plt.title('Bar Graph')\n",
        "plt.xlabel('Names')\n",
        "plt.ylabel('weight')"
      ],
      "metadata": {
        "id": "wAOqMeyTuPqA",
        "colab": {
          "base_uri": "https://localhost:8080/",
          "height": 489
        },
        "outputId": "3551bb95-4ba4-4199-c4ae-ed212e80fe44"
      },
      "execution_count": null,
      "outputs": [
        {
          "output_type": "execute_result",
          "data": {
            "text/plain": [
              "Text(0, 0.5, 'weight')"
            ]
          },
          "metadata": {},
          "execution_count": 42
        },
        {
          "output_type": "display_data",
          "data": {
            "text/plain": [
              "<Figure size 640x480 with 1 Axes>"
            ],
            "image/png": "[encoded data removed]"
          },
          "metadata": {}
        }
      ]
    }
  ]
}